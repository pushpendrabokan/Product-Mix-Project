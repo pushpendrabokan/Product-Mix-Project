{
 "cells": [
  {
   "attachments": {},
   "cell_type": "markdown",
   "metadata": {},
   "source": [
    "### Product Mix Problem:\n",
    "A Company basian paints produces 3 types of paints (interior, exterior and theme) from two raw materials in india, M1 and M2. \n",
    "### Decision Variables:\n",
    "- $x_1$: Amount of exterior paint produced daily \n",
    "- $x_2$: Amount of interior paint produced daily\n",
    "- $x_3$: Amount of theme paint produced daily\n",
    "\n",
    "Company currently produces paint in very odd manner and currently generating daily profit of 7000 unit i.e., INR 7 Lakh \n",
    "Consider amount to be produced in tons and all currency values in INR 100s\n",
    "\n",
    "#### Objective Function:\n",
    "Maximizes the total daily profit\n",
    "\n",
    "\\begin{align}\n",
    "max \\hspace{1cm} Z & = 1500x_1+2500x_2+3500x_3 \\\\\n",
    "s.t. \\hspace{0.5cm} 2x_1+2x_2+3x_3 & \\leq 14 \\\\\n",
    "\\hspace{0.5cm} x_2+2x_3 & \\leq 5 \\\\\n",
    "x_1 & \\geq 0 \\\\\n",
    "x_2 & \\geq 0 \\\\\n",
    "x_3 & \\geq 0 \\\\\n",
    "\\end{align}"
   ]
  },
  {
   "attachments": {},
   "cell_type": "markdown",
   "metadata": {},
   "source": [
    "### Product Mix Problem Using List & Dictionary"
   ]
  },
  {
   "cell_type": "code",
   "execution_count": 85,
   "metadata": {},
   "outputs": [],
   "source": [
    "# Create a List of Paints\n",
    "Paints = ['Exterior Paint', 'Interior Paint', 'Theme Paint']"
   ]
  },
  {
   "cell_type": "code",
   "execution_count": 86,
   "metadata": {},
   "outputs": [],
   "source": [
    "# Disctionary of the profits of each of the paint \n",
    "Profit = {'Exterior Paint': 2000,\n",
    "         'Interior Paint': 3000,\n",
    "         'Theme Paint': 4000}\n",
    "\n",
    "# Disctionary of the Raw_Material (M1) in each of the paints \n",
    "Raw_Material_M1 = {'Exterior Paint': 2,\n",
    "         'Interior Paint': 2,\n",
    "         'Theme Paint': 3}\n",
    "# Disctionary of the Raw_Material (M1) in each of the paints \n",
    "Raw_Material_M2 = {'Exterior Paint': 0,\n",
    "         'Interior Paint': 1,\n",
    "         'Theme Paint': 2}"
   ]
  },
  {
   "cell_type": "code",
   "execution_count": 75,
   "metadata": {},
   "outputs": [],
   "source": [
    "# Create a LP maximization problem\n",
    "pm1 = LpProblem(\"Product_Mix\", LpMaximize)  "
   ]
  },
  {
   "attachments": {},
   "cell_type": "markdown",
   "metadata": {},
   "source": [
    "### Creates a dictionary of LP variables\n",
    "#### dicts(name, indexs, lowBound=None, upBound=None, cat=0, indexStart=[]) # Class Method"
   ]
  },
  {
   "cell_type": "code",
   "execution_count": 76,
   "metadata": {},
   "outputs": [],
   "source": [
    "paint_vars = LpVariable.dicts(\"Paint\",Paints,0)"
   ]
  },
  {
   "cell_type": "code",
   "execution_count": 77,
   "metadata": {},
   "outputs": [],
   "source": [
    "# Add Objective Function to the 'prob'\n",
    "# lpSum(vector): Calculate the sum of a list of linear expressions\n",
    "pm1 += lpSum(Profit[i]*paint_vars [i] for i in Paints)"
   ]
  },
  {
   "cell_type": "code",
   "execution_count": 78,
   "metadata": {},
   "outputs": [],
   "source": [
    "# Adding The constraints \n",
    "pm1 += lpSum([Raw_Material_M1[i]*paint_vars[i] for i in Paints])<=14\n",
    "pm1 += lpSum([Raw_Material_M2[i]*paint_vars[i] for i in Paints])<=5"
   ]
  },
  {
   "cell_type": "code",
   "execution_count": 79,
   "metadata": {},
   "outputs": [
    {
     "data": {
      "text/plain": [
       "1"
      ]
     },
     "execution_count": 79,
     "metadata": {},
     "output_type": "execute_result"
    }
   ],
   "source": [
    "pm1.solve()"
   ]
  },
  {
   "cell_type": "code",
   "execution_count": 80,
   "metadata": {},
   "outputs": [
    {
     "name": "stdout",
     "output_type": "stream",
     "text": [
      "\n",
      " Solution Status: Optimal \n",
      "\n"
     ]
    }
   ],
   "source": [
    "# Print the solution status\n",
    "print(\"\\n\",\"Solution Status:\", LpStatus[pm1.status],\"\\n\")"
   ]
  },
  {
   "cell_type": "code",
   "execution_count": 83,
   "metadata": {},
   "outputs": [
    {
     "name": "stdout",
     "output_type": "stream",
     "text": [
      "\t Paint_Exterior_Paint = 2.0 tons\n",
      "\t Paint_Interior_Paint = 5.0 tons\n",
      "\t Paint_Theme_Paint = 0.0 tons\n"
     ]
    }
   ],
   "source": [
    "# Show the solution \n",
    "for v in pm1.variables():\n",
    "    print (\"\\t\", v.name, \"=\", v.varValue, \"tons\")"
   ]
  },
  {
   "cell_type": "code",
   "execution_count": 87,
   "metadata": {},
   "outputs": [
    {
     "name": "stdout",
     "output_type": "stream",
     "text": [
      "Maximum Daily Profit = Rs. 19000.0\n"
     ]
    }
   ],
   "source": [
    "# Objective Function Value \n",
    "print (\"Maximum Daily Profit =\", \"Rs.\", value(pm1.objective))"
   ]
  }
 ],
 "metadata": {
  "kernelspec": {
   "display_name": "Python 3",
   "language": "python",
   "name": "python3"
  },
  "language_info": {
   "codemirror_mode": {
    "name": "ipython",
    "version": 3
   },
   "file_extension": ".py",
   "mimetype": "text/x-python",
   "name": "python",
   "nbconvert_exporter": "python",
   "pygments_lexer": "ipython3",
   "version": "3.11.4"
  }
 },
 "nbformat": 4,
 "nbformat_minor": 4
}
